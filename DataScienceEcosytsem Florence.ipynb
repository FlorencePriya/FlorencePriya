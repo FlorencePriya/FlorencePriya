{
 "cells": [
  {
   "cell_type": "markdown",
   "id": "3023a1ff-1d4a-427d-a5b6-a2b7002f4b74",
   "metadata": {},
   "source": [
    "Data Science Tools and Ecosystem\n"
   ]
  },
  {
   "cell_type": "markdown",
   "id": "26fcf101-2e10-4699-bd97-6732c94fa02a",
   "metadata": {},
   "source": [
    "Data Science Tools and Ecosystem\n"
   ]
  },
  {
   "cell_type": "markdown",
   "id": "79cc9acb-0822-4313-8173-83a2371bfc62",
   "metadata": {},
   "source": [
    "In this notebook,Data Science Tools and Ecosystem are summarized."
   ]
  },
  {
   "cell_type": "markdown",
   "id": "6fb24e6d-1e38-4442-87da-810f4fc8e818",
   "metadata": {},
   "source": [
    "Objectives: Data Science Tools and Ecosystem\n",
    "Some of the popular languages that Data Scientists use \n",
    "Some of the commonly used libraries used by Data Scientists \n",
    "Data Science Tools\n",
    "few examples of evaluating arithmetic expressions in Python"
   ]
  },
  {
   "cell_type": "markdown",
   "id": "286714df-c479-401d-a0d4-58b5c7eae574",
   "metadata": {},
   "source": [
    "Some of the poplular languages that Data Scientists use are:\n",
    "Python, SQL, R"
   ]
  },
  {
   "cell_type": "markdown",
   "id": "fa4fb017-7008-48f0-86a8-48b7fa1cb83e",
   "metadata": {},
   "source": [
    "Some of the commonly used libraries used by Data Scientists include:\n",
    "Matplotlib, NumPy,Pandas, Tensorflow, Plotly"
   ]
  },
  {
   "cell_type": "code",
   "execution_count": null,
   "id": "e63bd191-c45d-4575-92c6-cd1d9a7e6752",
   "metadata": {},
   "outputs": [],
   "source": [
    "Data Science Tools"
   ]
  },
  {
   "cell_type": "code",
   "execution_count": null,
   "id": "57606a71-aaf5-4446-887d-b119f05486da",
   "metadata": {},
   "outputs": [],
   "source": [
    "Jupyter Notebooks"
   ]
  },
  {
   "cell_type": "code",
   "execution_count": null,
   "id": "559753bc-a151-4cb8-a0e4-de51f08c410d",
   "metadata": {},
   "outputs": [],
   "source": [
    "Pytorch"
   ]
  },
  {
   "cell_type": "code",
   "execution_count": null,
   "id": "722b6cb8-ad46-405f-9066-a2c778d0f11f",
   "metadata": {},
   "outputs": [],
   "source": [
    "Linux"
   ]
  },
  {
   "cell_type": "code",
   "execution_count": null,
   "id": "c5be077c-6636-4de7-bb38-26aa687ffc66",
   "metadata": {},
   "outputs": [],
   "source": [
    "Below are a few examples of evaluating arithmetic expressions in Python."
   ]
  },
  {
   "cell_type": "code",
   "execution_count": null,
   "id": "bcdaeb37",
   "metadata": {},
   "outputs": [],
   "source": [
    "Addition (+)\n",
    "Subtraction (-)\n",
    "Multiplication (*)\n",
    "Division (/)"
   ]
  },
  {
   "cell_type": "code",
   "execution_count": null,
   "id": "10bd0542-9a13-4072-b7ed-2eb1b4efef44",
   "metadata": {},
   "outputs": [],
   "source": [
    "This a simple arithmetic expression to mutiply then add integers"
   ]
  },
  {
   "cell_type": "markdown",
   "id": "c5758205-4ad7-46c7-91cf-015f752a0d17",
   "metadata": {},
   "source": [
    "(3*4)+5"
   ]
  },
  {
   "cell_type": "markdown",
   "id": "4fe45309-d0af-4982-9149-eb74c3f4a14a",
   "metadata": {},
   "source": [
    "17"
   ]
  },
  {
   "cell_type": "code",
   "execution_count": null,
   "id": "e630ef70-b1f3-4535-b67b-784a2aebbbb1",
   "metadata": {},
   "outputs": [],
   "source": [
    "Converting \\(\\text{200}\\) minutes to hours."
   ]
  },
  {
   "cell_type": "markdown",
   "id": "78868959-db82-4951-9bcc-9537a2326d29",
   "metadata": {},
   "source": [
    " hour = \\(\\text{60}\\) minutes."
   ]
  },
  {
   "cell_type": "markdown",
   "id": "e148f47f-12e7-46d6-a361-a95015c22164",
   "metadata": {},
   "source": [
    "Author Florence Alexander"
   ]
  }
 ],
 "metadata": {
  "kernelspec": {
   "display_name": "Python 3 (ipykernel)",
   "language": "python",
   "name": "python3"
  },
  "language_info": {
   "codemirror_mode": {
    "name": "ipython",
    "version": 3
   },
   "file_extension": ".py",
   "mimetype": "text/x-python",
   "name": "python",
   "nbconvert_exporter": "python",
   "pygments_lexer": "ipython3",
   "version": "3.12.8"
  }
 },
 "nbformat": 4,
 "nbformat_minor": 5
}
